{
 "cells": [
  {
   "cell_type": "markdown",
   "metadata": {
    "deletable": false,
    "editable": false,
    "nbgrader": {
     "checksum": "5a8d839ee00398fa3bd3bc58ec642beb",
     "grade": false,
     "grade_id": "cell-a839e7b47494b4c3",
     "locked": true,
     "schema_version": 1,
     "solution": false
    }
   },
   "source": [
    "# Assignment 2\n",
    "For this assignment you'll be looking at 2017 data on immunizations from the CDC. Your datafile for this assignment is in [assets/NISPUF17.csv](assets/NISPUF17.csv). A data users guide for this, which you'll need to map the variables in the data to the questions being asked, is available at [assets/NIS-PUF17-DUG.pdf](assets/NIS-PUF17-DUG.pdf). **Note: you may have to go to your Jupyter tree (click on the Coursera image) and navigate to the assignment 2 assets folder to see this PDF file).**"
   ]
  },
  {
   "cell_type": "markdown",
   "metadata": {
    "deletable": false,
    "editable": false,
    "hideCode": false,
    "hidePrompt": false,
    "nbgrader": {
     "checksum": "aaa5e730f40ba21c1bc94f864bad4742",
     "grade": false,
     "grade_id": "cell-58fc2e5938733f6a",
     "locked": true,
     "schema_version": 1,
     "solution": false
    }
   },
   "source": [
    "## Question 1\n",
    "Write a function called `proportion_of_education` which returns the proportion of children in the dataset who had a mother with the education levels equal to less than high school (<12), high school (12), more than high school but not a college graduate (>12) and college degree.\n",
    "\n",
    "*This function should return a dictionary in the form of (use the correct numbers, do not round numbers):* \n",
    "```\n",
    "    {\"less than high school\":0.2,\n",
    "    \"high school\":0.4,\n",
    "    \"more than high school but not college\":0.2,\n",
    "    \"college\":0.2}\n",
    "```\n"
   ]
  },
  {
   "cell_type": "code",
   "execution_count": 2,
   "metadata": {
    "deletable": false,
    "nbgrader": {
     "checksum": "0ac58deb3f5ac988c643e903cbee7f3a",
     "grade": false,
     "grade_id": "cell-eea16d020eb52ae7",
     "locked": false,
     "schema_version": 1,
     "solution": true
    }
   },
   "outputs": [
    {
     "name": "stdout",
     "output_type": "stream",
     "text": [
      "{'less than high school': 0.10202002459160373, 'high school': 0.172352011241876, 'more than high school but not college': 0.24588090637625154, 'college': 0.47974705779026877}\n"
     ]
    }
   ],
   "source": [
    "import pandas as pd\n",
    "file = pd.read_csv('assets/NISPUF17.csv')\n",
    "data = pd.DataFrame(file)\n",
    "def proportion_of_education():\n",
    "    # your code goes here\n",
    "    # YOUR CODE HERE\n",
    "\n",
    "    n = data['EDUC1'].value_counts()/data['EDUC1'].shape[0]\n",
    "    # print(n)\n",
    "    name_list = ['less than high school', 'high school', 'more than high school but not college', 'college']\n",
    "    dictionary = {}\n",
    "    i = 0\n",
    "    for label in name_list:\n",
    "        dictionary[label] = n[i+1] \n",
    "        i += 1\n",
    "    \n",
    "    return dictionary\n",
    "\n",
    "\n",
    "print(proportion_of_education())"
   ]
  },
  {
   "cell_type": "code",
   "execution_count": 2,
   "metadata": {},
   "outputs": [
    {
     "name": "stdout",
     "output_type": "stream",
     "text": [
      "{'less than high school': 0.10202002459160373, 'high school': 0.172352011241876, 'more than high school but not college': 0.24588090637625154, 'college': 0.47974705779026877}\n"
     ]
    }
   ],
   "source": [
    "import pandas as pd\n",
    "file = pd.read_csv('assets/NISPUF17.csv')\n",
    "data = pd.DataFrame(file)\n",
    "def proportion_of_education():\n",
    "    # your code goes here\n",
    "    # YOUR CODE HERE\n",
    "     # import pandas as pd\n",
    "    # mb = pd.read_csv(\"assets/NISPUF17.csv\")\n",
    "#     n = data['EDUC1'].value_counts()/data['EDUC1'].shape[0]\n",
    "#     print(n)\n",
    "#     li = ['less than high school', 'high school', 'more than high school but not college', 'college']\n",
    "#     di = {}\n",
    "#     i = 0\n",
    "#     for l in li:\n",
    "#         di[l] = n[i+1] \n",
    "#         i += 1\n",
    "    \n",
    "#     return di\n",
    "\n",
    "\n",
    "# print(proportion_of_education())\n",
    "    not_high_school= high_school= not_college= college = 0\n",
    "    for val_1 in data['EDUC1']:\n",
    "        val = int(val_1)\n",
    "        if val==1:\n",
    "            not_high_school+=1\n",
    "        elif val==2:\n",
    "            high_school+=1\n",
    "        elif val==3:\n",
    "            not_college+=1\n",
    "        else:\n",
    "            college+=1\n",
    "            \n",
    "    not_high_school = not_high_school/data.shape[0]\n",
    "    high_school = high_school/data.shape[0]\n",
    "    not_college = not_college/data.shape[0]\n",
    "    college = college/data.shape[0]\n",
    "    \n",
    "    proportion = {\"less than high school\":not_high_school,\n",
    "    \"high school\":high_school,\n",
    "    \"more than high school but not college\":not_college,\n",
    "    \"college\":college} \n",
    "    return proportion\n",
    "#     raise NotImplementedError()\n",
    "\n",
    "print(proportion_of_education())\n"
   ]
  },
  {
   "cell_type": "code",
   "execution_count": 70,
   "metadata": {
    "deletable": false,
    "editable": false,
    "hideCode": false,
    "hidePrompt": false,
    "nbgrader": {
     "checksum": "ac5d91a24a7f72f66c25d242c3d24a50",
     "grade": true,
     "grade_id": "cell-c0eeef201366f51c",
     "locked": true,
     "points": 1,
     "schema_version": 1,
     "solution": false
    }
   },
   "outputs": [],
   "source": [
    "assert type(proportion_of_education())==type({}), \"You must return a dictionary.\"\n",
    "assert len(proportion_of_education()) == 4, \"You have not returned a dictionary with four items in it.\"\n",
    "assert \"less than high school\" in proportion_of_education().keys(), \"You have not returned a dictionary with the correct keys.\"\n",
    "assert \"high school\" in proportion_of_education().keys(), \"You have not returned a dictionary with the correct keys.\"\n",
    "assert \"more than high school but not college\" in proportion_of_education().keys(), \"You have not returned a dictionary with the correct keys.\"\n",
    "assert \"college\" in proportion_of_education().keys(), \"You have not returned a dictionary with the correct keys.\"\n"
   ]
  },
  {
   "cell_type": "markdown",
   "metadata": {
    "deletable": false,
    "editable": false,
    "nbgrader": {
     "checksum": "562b78b7b9b79580269be0a3bebf4b42",
     "grade": false,
     "grade_id": "cell-8fcbb64516283f52",
     "locked": true,
     "schema_version": 1,
     "solution": false
    }
   },
   "source": [
    "## Question 2\n",
    "\n",
    "Let's explore the relationship between being fed breastmilk as a child and getting a seasonal influenza vaccine from a healthcare provider. Return a tuple of the average number of influenza vaccines for those children we know received breastmilk as a child and those who know did not.\n",
    "\n",
    "*This function should return a tuple in the form (use the correct numbers:*\n",
    "```\n",
    "(2.5, 0.1)\n",
    "```"
   ]
  },
  {
   "cell_type": "code",
   "execution_count": 3,
   "metadata": {
    "deletable": false,
    "nbgrader": {
     "checksum": "a405d639063c4a6408365479f29c95c9",
     "grade": false,
     "grade_id": "cell-77f18c512324eabb",
     "locked": false,
     "schema_version": 1,
     "solution": true
    }
   },
   "outputs": [
    {
     "name": "stdout",
     "output_type": "stream",
     "text": [
      "(1.8799187420058687, 1.5963945918878317)\n"
     ]
    }
   ],
   "source": [
    "def average_influenza_doses():\n",
    "    # YOUR CODE HERE\n",
    "    \n",
    "    file = pd.read_csv('assets/NISPUF17.csv')\n",
    "    data = pd.DataFrame(file)\n",
    "    \n",
    "    # CBF_01  = column with child fed breast milk yes/no\n",
    "    # P_NUMFLU  = column with total number of seasonal infulenza doses\n",
    "              \n",
    "    data = data[['CBF_01','P_NUMFLU']]\n",
    "    \n",
    "    milk_fed_vaccine = milk_not_fed_vaccine = milk_fed_child = milk_not_fed_child = 0\n",
    "   \n",
    "    # eliminating rows having NaN values in column P_NUMFLU and keeping the remaining rows\n",
    "    data = data[pd.notnull(data['P_NUMFLU'])]\n",
    "    \n",
    "    for row in zip(data['CBF_01'], data['P_NUMFLU']):\n",
    "        \n",
    "        if int(row[0])==1: # child fed breast milk \n",
    "            milk_fed_vaccine = milk_fed_vaccine + int(row[1])\n",
    "            milk_fed_child+=1\n",
    "        \n",
    "        if int(row[0])==2: # child was not fed breast milk \n",
    "            milk_not_fed_vaccine = milk_not_fed_vaccine + int(row[1])\n",
    "            milk_not_fed_child+=1\n",
    "            \n",
    "    return tuple((milk_fed_vaccine/milk_fed_child , milk_not_fed_vaccine/milk_not_fed_child))\n",
    "    raise NotImplementedError()\n",
    " \n",
    "    \"\"\"\n",
    "    milk_fed_vaccine = 24986\n",
    "    ,milk_not_fed_vaccine = 3188\n",
    "    ,milk_fed_child = 13291\n",
    "    ,milk_not_fed_child = 1997\n",
    "    \n",
    "    average = (1.8799187420058687, 1.5963945918878317)\n",
    "    \n",
    "    \"\"\"\n",
    "print(average_influenza_doses())\n"
   ]
  },
  {
   "cell_type": "code",
   "execution_count": 75,
   "metadata": {
    "deletable": false,
    "editable": false,
    "nbgrader": {
     "checksum": "19be955e97fdf7162d43fbb7c2c40951",
     "grade": true,
     "grade_id": "cell-54a3ba6cff31caa7",
     "locked": true,
     "points": 1,
     "schema_version": 1,
     "solution": false
    }
   },
   "outputs": [],
   "source": [
    "assert len(average_influenza_doses())==2, \"Return two values in a tuple, the first for yes and the second for no.\"\n"
   ]
  },
  {
   "cell_type": "markdown",
   "metadata": {
    "deletable": false,
    "editable": false,
    "nbgrader": {
     "checksum": "e10e2163f5957a0c398ef4f0b76b4efe",
     "grade": false,
     "grade_id": "cell-f63377f3c97aa7c4",
     "locked": true,
     "schema_version": 1,
     "solution": false
    }
   },
   "source": [
    "## Question 3\n",
    "It would be interesting to see if there is any evidence of a link between vaccine effectiveness and sex of the child. Calculate the ratio of the number of children who contracted chickenpox but were vaccinated against it (at least one varicella dose) versus those who were vaccinated but did not contract chicken pox. Return results by sex. \n",
    "\n",
    "*This function should return a dictionary in the form of (use the correct numbers):* \n",
    "```\n",
    "    {\"male\":0.2,\n",
    "    \"female\":0.4}\n",
    "```\n",
    "\n",
    "Note: To aid in verification, the `chickenpox_by_sex()['female']` value the autograder is looking for starts with the digits `0.0077`."
   ]
  },
  {
   "cell_type": "code",
   "execution_count": 119,
   "metadata": {
    "deletable": false,
    "nbgrader": {
     "checksum": "b4d1b58acae002bc73eb0b19f95bc4af",
     "grade": false,
     "grade_id": "cell-a0a9e6fe67698006",
     "locked": false,
     "schema_version": 1,
     "solution": true
    }
   },
   "outputs": [],
   "source": [
    "def chickenpox_by_sex():\n",
    "    # YOUR CODE HERE\n",
    "    file = pd.read_csv('assets/NISPUF17.csv')\n",
    "    data = pd.DataFrame(file)\n",
    "    \n",
    "    # HAD_CPOX  = did child ever had chicken pox\n",
    "    # P_NUMVRC = total number of varicella doses\n",
    "    \n",
    "    data = data[['HAD_CPOX','P_NUMVRC','SEX']]\n",
    "    data = data[pd.notnull(data['P_NUMVRC'])]\n",
    "    \n",
    "    male_pox =  0 \n",
    "    male_not_pox = 0\n",
    "    female_pox = 0\n",
    "    female_not_pox = 0\n",
    "    c=0\n",
    "    for row in zip(data['P_NUMVRC'], data['HAD_CPOX'], data['SEX']):\n",
    "        \n",
    "        if int(row[0])==1  and row[1]==1: # child had chicken pox\n",
    "            if int(row[2]) == 1:\n",
    "                male_pox+=1\n",
    "            if int(row[2]) == 2:\n",
    "                female_pox+=1\n",
    "        \n",
    "        if int(row[0])==1 and row[1]==2: # child did not had chicken pox\n",
    "            if int(row[2]) == 1:\n",
    "                male_not_pox+=1\n",
    "            if int(row[2]) == 2:\n",
    "                female_not_pox+=1\n",
    "    \n",
    "    # print(male_pox , male_not_pox , female_pox , female_not_pox ) \n",
    "    \n",
    "    return {\"male\": male_pox/male_not_pox,\"female\":female_pox/female_not_pox}\n",
    "    raise NotImplementedError()"
   ]
  },
  {
   "cell_type": "code",
   "execution_count": 121,
   "metadata": {
    "deletable": false,
    "editable": false,
    "nbgrader": {
     "checksum": "1b6a113a633c55699ae478a3a9ee9c33",
     "grade": true,
     "grade_id": "cell-c4f1714db100c865",
     "locked": true,
     "points": 1,
     "schema_version": 1,
     "solution": false
    }
   },
   "outputs": [],
   "source": [
    "assert len(chickenpox_by_sex())==2, \"Return a dictionary with two items, the first for males and the second for females.\"\n"
   ]
  },
  {
   "cell_type": "markdown",
   "metadata": {},
   "source": [
    "## Question 4\n",
    "A correlation is a statistical relationship between two variables. If we wanted to know if vaccines work, we might look at the correlation between the use of the vaccine and whether it results in prevention of the infection or disease [1]. In this question, you are to see if there is a correlation between having had the chicken pox and the number of chickenpox vaccine doses given (varicella).\n",
    "\n",
    "Some notes on interpreting the answer. The `had_chickenpox_column` is either `1` (for yes) or `2` (for no), and the `num_chickenpox_vaccine_column` is the number of doses a child has been given of the varicella vaccine. A positive correlation (e.g., `corr > 0`) means that an increase in `had_chickenpox_column` (which means more no’s) would also increase the values of `num_chickenpox_vaccine_column` (which means more doses of vaccine). If there is a negative correlation (e.g., `corr < 0`), it indicates that having had chickenpox is related to an increase in the number of vaccine doses.\n",
    "\n",
    "Also, `pval` is the probability that we observe a correlation between `had_chickenpox_column` and `num_chickenpox_vaccine_column` which is greater than or equal to a particular value occurred by chance. A small `pval` means that the observed correlation is highly unlikely to occur by chance. In this case, `pval` should be very small (will end in `e-18` indicating a very small number).\n",
    "\n",
    "[1] This isn’t really the full picture, since we are not looking at when the dose was given. It’s possible that children had chickenpox and then their parents went to get them the vaccine. Does this dataset have the data we would need to investigate the timing of the dose?"
   ]
  },
  {
   "cell_type": "code",
   "execution_count": null,
   "metadata": {
    "deletable": false,
    "nbgrader": {
     "checksum": "3e645859949447913cd11d30eb33cb1e",
     "grade": false,
     "grade_id": "cell-8afff07f564cf79a",
     "locked": false,
     "schema_version": 1,
     "solution": true
    }
   },
   "outputs": [],
   "source": [
    "def corr_chickenpox():\n",
    "    import scipy.stats as stats\n",
    "    import numpy as np\n",
    "    import pandas as pd\n",
    "    \n",
    "    # this is just an example dataframe\n",
    "    df=pd.DataFrame({\"had_chickenpox_column\":np.random.randint(1,3,size=(100)),\n",
    "                   \"num_chickenpox_vaccine_column\":np.random.randint(0,6,size=(100))})\n",
    "\n",
    "    # here is some stub code to actually run the correlation\n",
    "    corr, pval=stats.pearsonr(df[\"had_chickenpox_column\"],df[\"num_chickenpox_vaccine_column\"])\n",
    "    \n",
    "    # just return the correlation\n",
    "    #return corr\n",
    "\n",
    "    # YOUR CODE HERE\n",
    "    raise NotImplementedError()"
   ]
  },
  {
   "cell_type": "code",
   "execution_count": null,
   "metadata": {
    "deletable": false,
    "editable": false,
    "nbgrader": {
     "checksum": "ac50ccb747b99f6bbcc76da017e66528",
     "grade": true,
     "grade_id": "cell-73408733533a29a5",
     "locked": true,
     "points": 1,
     "schema_version": 1,
     "solution": false
    }
   },
   "outputs": [],
   "source": [
    "assert -1<=corr_chickenpox()<=1, \"You must return a float number between -1.0 and 1.0.\"\n"
   ]
  },
  {
   "cell_type": "code",
   "execution_count": 5,
   "metadata": {},
   "outputs": [
    {
     "name": "stdout",
     "output_type": "stream",
     "text": [
      "       Unnamed: 0  SEQNUMC  SEQNUMHH  PDAT    PROVWT_D     RDDWT_D  STRATUM  \\\n",
      "0               1   128521     12852     2         NaN  235.916956     1031   \n",
      "1               2    10741      1074     2         NaN  957.353840     1068   \n",
      "2               3   220011     22001     2         NaN  189.611299     1050   \n",
      "3               4    86131      8613     1  675.430817  333.447418     1040   \n",
      "4               5   227141     22714     1  482.617748  278.768063     1008   \n",
      "...           ...      ...       ...   ...         ...         ...      ...   \n",
      "28460       28461    19141      1914     2         NaN   21.188088     2062   \n",
      "28461       28462   121401     12140     2         NaN   26.503010     2004   \n",
      "28462       28463   128831     12883     2         NaN   27.520652     2004   \n",
      "28463       28464    82921      8292     2         NaN   22.390587     2062   \n",
      "28464       28465   244621     24462     2         NaN   27.520652     2004   \n",
      "\n",
      "       YEAR  AGECPOXR  HAD_CPOX  ...  XVRCTY2  XVRCTY3  XVRCTY4  XVRCTY5  \\\n",
      "0      2017       NaN         2  ...                        NaN      NaN   \n",
      "1      2017       NaN         2  ...                        NaN      NaN   \n",
      "2      2017       NaN         2  ...                        NaN      NaN   \n",
      "3      2017       NaN         2  ...                        NaN      NaN   \n",
      "4      2017       NaN         2  ...                        NaN      NaN   \n",
      "...     ...       ...       ...  ...      ...      ...      ...      ...   \n",
      "28460  2017       NaN         2  ...                        NaN      NaN   \n",
      "28461  2017       NaN         2  ...                        NaN      NaN   \n",
      "28462  2017       NaN         2  ...                        NaN      NaN   \n",
      "28463  2017       NaN         2  ...                        NaN      NaN   \n",
      "28464  2017       NaN         2  ...                        NaN      NaN   \n",
      "\n",
      "       XVRCTY6  XVRCTY7  XVRCTY8  XVRCTY9  INS_STAT2_I  INS_BREAK_I  \n",
      "0          NaN      NaN      NaN      NaN          NaN          NaN  \n",
      "1          NaN      NaN      NaN      NaN          NaN          NaN  \n",
      "2          NaN      NaN      NaN      NaN          NaN          NaN  \n",
      "3          NaN      NaN      NaN      NaN          1.0          2.0  \n",
      "4          NaN      NaN      NaN      NaN          2.0          1.0  \n",
      "...        ...      ...      ...      ...          ...          ...  \n",
      "28460      NaN      NaN      NaN      NaN          NaN          NaN  \n",
      "28461      NaN      NaN      NaN      NaN          NaN          NaN  \n",
      "28462      NaN      NaN      NaN      NaN          NaN          NaN  \n",
      "28463      NaN      NaN      NaN      NaN          NaN          NaN  \n",
      "28464      NaN      NaN      NaN      NaN          NaN          NaN  \n",
      "\n",
      "[28357 rows x 454 columns]\n"
     ]
    }
   ],
   "source": [
    "import pandas as pd\n",
    "data = pd.read_csv('assets/NISPUF17.csv')\n",
    "v1 =  data[(data['P_NUMVRC'] >=0) & (data['HAD_CPOX'] <= 2)]\n",
    "\n",
    "print(v1)\n",
    "\n",
    "\n"
   ]
  },
  {
   "cell_type": "code",
   "execution_count": null,
   "metadata": {},
   "outputs": [],
   "source": []
  }
 ],
 "metadata": {
  "anaconda-cloud": {},
  "coursera": {
   "schema_names": [
    "mooc_adswpy_1_v2_assignment2"
   ]
  },
  "hide_code_all_hidden": false,
  "kernelspec": {
   "display_name": "Python 3 (ipykernel)",
   "language": "python",
   "name": "python3"
  },
  "language_info": {
   "codemirror_mode": {
    "name": "ipython",
    "version": 3
   },
   "file_extension": ".py",
   "mimetype": "text/x-python",
   "name": "python",
   "nbconvert_exporter": "python",
   "pygments_lexer": "ipython3",
   "version": "3.9.7"
  }
 },
 "nbformat": 4,
 "nbformat_minor": 4
}
