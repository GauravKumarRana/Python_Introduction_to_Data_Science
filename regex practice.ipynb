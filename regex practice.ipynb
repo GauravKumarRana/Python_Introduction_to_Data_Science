{
 "cells": [
  {
   "cell_type": "code",
   "execution_count": null,
   "id": "27fb9500-12e6-4c26-8990-9ad7cf2e233d",
   "metadata": {},
   "outputs": [],
   "source": [
    "import re\n",
    "def logs():\n",
    "    with open(\"assets/logdata.txt\", \"r\") as file:\n",
    "        logdata = file.read()\n",
    "    \n",
    "    # YOUR CODE HERE\n",
    "    pattern = r'''\n",
    "    (?P<host>\\d+(?:\\.\\d+){3}) # 1+ digits and 3 occurrenses of . and 3 digits\n",
    "    \\s+\\S+\\s+                 # 1+ whitespaces, 1+ non-whitespaces, 1+ whitespaces\n",
    "    (?P<user_name>\\S+)\\s+\\[   # 1+ non-whitespaces , 1+ whitespaces and [\n",
    "    (?P<time>[^\\]\\[]*)\\]\\s+   # 0+ chars other than [ and ], ], 1+ whitespaces\n",
    "    '''\n",
    "    for item in re.finditer(pattern,logdata,re.VERBOSE):\n",
    "        print(item.groupdict())    \n",
    "    raise NotImplementedError() "
   ]
  },
  {
   "cell_type": "code",
   "execution_count": null,
   "id": "cf816b42-ba65-40eb-879f-ff51720d8cb6",
   "metadata": {},
   "outputs": [],
   "source": []
  }
 ],
 "metadata": {
  "kernelspec": {
   "display_name": "Python 3 (ipykernel)",
   "language": "python",
   "name": "python3"
  },
  "language_info": {
   "codemirror_mode": {
    "name": "ipython",
    "version": 3
   },
   "file_extension": ".py",
   "mimetype": "text/x-python",
   "name": "python",
   "nbconvert_exporter": "python",
   "pygments_lexer": "ipython3",
   "version": "3.9.7"
  }
 },
 "nbformat": 4,
 "nbformat_minor": 5
}
